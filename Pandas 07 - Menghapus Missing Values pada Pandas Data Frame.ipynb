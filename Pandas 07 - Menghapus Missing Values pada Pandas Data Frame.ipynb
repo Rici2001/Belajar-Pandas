{
 "cells": [
  {
   "cell_type": "markdown",
   "metadata": {},
   "source": [
    "#5 Menghapus (drop) missing values (NaN)\n",
    "\n",
    "Import Modules :\n",
    "\n",
    "modul yang kita import kali ini cuma 1 :\n",
    "\n",
    "1. pandas"
   ]
  },
  {
   "cell_type": "code",
   "execution_count": 1,
   "metadata": {},
   "outputs": [],
   "source": [
    "import pandas as pd"
   ]
  },
  {
   "cell_type": "markdown",
   "metadata": {},
   "source": [
    "-Setelah itu sebaiknya kita mengecek terlebih dahulu versi pandas yang kita gunakan saat ini, bertujuan agar apabila terjadi perbedaan output atau tampilan itu kemungkinan besar di sebabkan oleh perbedaan versi yang di gunakan."
   ]
  },
  {
   "cell_type": "code",
   "execution_count": 3,
   "metadata": {},
   "outputs": [
    {
     "name": "stdout",
     "output_type": "stream",
     "text": [
      "1.1.3\n"
     ]
    }
   ],
   "source": [
    "print(pd.__version__ )"
   ]
  },
  {
   "cell_type": "markdown",
   "metadata": {},
   "source": [
    "Persiapan Data Frame\n",
    "\n",
    "-kita akan membuat sebuah data frame yang mengandung missing values.\n",
    "\n",
    "-kita akan menggunakan modules pd.util.testing.makeMissMissingDataFrame\n",
    "\n",
    "-Setelah kita eksekusi modules tersebut akan muncul pesan worning. Tidak perlu dikwatirkan karena pesan worning tersebut muncul dikarenakan kita menggunakan modul pd.util.testing.makeMissingDataFrame."
   ]
  },
  {
   "cell_type": "code",
   "execution_count": 13,
   "metadata": {},
   "outputs": [
    {
     "data": {
      "text/html": [
       "<div>\n",
       "<style scoped>\n",
       "    .dataframe tbody tr th:only-of-type {\n",
       "        vertical-align: middle;\n",
       "    }\n",
       "\n",
       "    .dataframe tbody tr th {\n",
       "        vertical-align: top;\n",
       "    }\n",
       "\n",
       "    .dataframe thead th {\n",
       "        text-align: right;\n",
       "    }\n",
       "</style>\n",
       "<table border=\"1\" class=\"dataframe\">\n",
       "  <thead>\n",
       "    <tr style=\"text-align: right;\">\n",
       "      <th></th>\n",
       "      <th>index</th>\n",
       "      <th>A</th>\n",
       "      <th>B</th>\n",
       "      <th>C</th>\n",
       "      <th>D</th>\n",
       "    </tr>\n",
       "  </thead>\n",
       "  <tbody>\n",
       "    <tr>\n",
       "      <th>0</th>\n",
       "      <td>QQAZickMGf</td>\n",
       "      <td>-0.340498</td>\n",
       "      <td>-0.670755</td>\n",
       "      <td>0.601262</td>\n",
       "      <td>NaN</td>\n",
       "    </tr>\n",
       "    <tr>\n",
       "      <th>1</th>\n",
       "      <td>k8pGLDoxxo</td>\n",
       "      <td>-0.249995</td>\n",
       "      <td>-1.838992</td>\n",
       "      <td>NaN</td>\n",
       "      <td>2.113676</td>\n",
       "    </tr>\n",
       "    <tr>\n",
       "      <th>2</th>\n",
       "      <td>uMFNnt6S6z</td>\n",
       "      <td>NaN</td>\n",
       "      <td>2.109425</td>\n",
       "      <td>0.263740</td>\n",
       "      <td>-0.162893</td>\n",
       "    </tr>\n",
       "    <tr>\n",
       "      <th>3</th>\n",
       "      <td>p5gAtGz2Dx</td>\n",
       "      <td>0.853479</td>\n",
       "      <td>-0.555194</td>\n",
       "      <td>1.599394</td>\n",
       "      <td>0.068909</td>\n",
       "    </tr>\n",
       "    <tr>\n",
       "      <th>4</th>\n",
       "      <td>lUUfrOXV92</td>\n",
       "      <td>0.927243</td>\n",
       "      <td>0.086871</td>\n",
       "      <td>1.518794</td>\n",
       "      <td>0.790988</td>\n",
       "    </tr>\n",
       "  </tbody>\n",
       "</table>\n",
       "</div>"
      ],
      "text/plain": [
       "        index         A         B         C         D\n",
       "0  QQAZickMGf -0.340498 -0.670755  0.601262       NaN\n",
       "1  k8pGLDoxxo -0.249995 -1.838992       NaN  2.113676\n",
       "2  uMFNnt6S6z       NaN  2.109425  0.263740 -0.162893\n",
       "3  p5gAtGz2Dx  0.853479 -0.555194  1.599394  0.068909\n",
       "4  lUUfrOXV92  0.927243  0.086871  1.518794  0.790988"
      ]
     },
     "execution_count": 13,
     "metadata": {},
     "output_type": "execute_result"
    }
   ],
   "source": [
    "df = pd.util.testing.makeMissingDataframe().reset_index()\n",
    "df.head()"
   ]
  },
  {
   "cell_type": "markdown",
   "metadata": {},
   "source": [
    "-Kemudian kita akan mengubah nama kolom indexnya menjadi Z\n",
    "\n",
    "-dengan menggunakan script df = df.rename(columns={'index':'Z'})"
   ]
  },
  {
   "cell_type": "code",
   "execution_count": 15,
   "metadata": {},
   "outputs": [
    {
     "data": {
      "text/html": [
       "<div>\n",
       "<style scoped>\n",
       "    .dataframe tbody tr th:only-of-type {\n",
       "        vertical-align: middle;\n",
       "    }\n",
       "\n",
       "    .dataframe tbody tr th {\n",
       "        vertical-align: top;\n",
       "    }\n",
       "\n",
       "    .dataframe thead th {\n",
       "        text-align: right;\n",
       "    }\n",
       "</style>\n",
       "<table border=\"1\" class=\"dataframe\">\n",
       "  <thead>\n",
       "    <tr style=\"text-align: right;\">\n",
       "      <th></th>\n",
       "      <th>Z</th>\n",
       "      <th>A</th>\n",
       "      <th>B</th>\n",
       "      <th>C</th>\n",
       "      <th>D</th>\n",
       "    </tr>\n",
       "  </thead>\n",
       "  <tbody>\n",
       "    <tr>\n",
       "      <th>0</th>\n",
       "      <td>QQAZickMGf</td>\n",
       "      <td>-0.340498</td>\n",
       "      <td>-0.670755</td>\n",
       "      <td>0.601262</td>\n",
       "      <td>NaN</td>\n",
       "    </tr>\n",
       "    <tr>\n",
       "      <th>1</th>\n",
       "      <td>k8pGLDoxxo</td>\n",
       "      <td>-0.249995</td>\n",
       "      <td>-1.838992</td>\n",
       "      <td>NaN</td>\n",
       "      <td>2.113676</td>\n",
       "    </tr>\n",
       "    <tr>\n",
       "      <th>2</th>\n",
       "      <td>uMFNnt6S6z</td>\n",
       "      <td>NaN</td>\n",
       "      <td>2.109425</td>\n",
       "      <td>0.263740</td>\n",
       "      <td>-0.162893</td>\n",
       "    </tr>\n",
       "    <tr>\n",
       "      <th>3</th>\n",
       "      <td>p5gAtGz2Dx</td>\n",
       "      <td>0.853479</td>\n",
       "      <td>-0.555194</td>\n",
       "      <td>1.599394</td>\n",
       "      <td>0.068909</td>\n",
       "    </tr>\n",
       "    <tr>\n",
       "      <th>4</th>\n",
       "      <td>lUUfrOXV92</td>\n",
       "      <td>0.927243</td>\n",
       "      <td>0.086871</td>\n",
       "      <td>1.518794</td>\n",
       "      <td>0.790988</td>\n",
       "    </tr>\n",
       "  </tbody>\n",
       "</table>\n",
       "</div>"
      ],
      "text/plain": [
       "            Z         A         B         C         D\n",
       "0  QQAZickMGf -0.340498 -0.670755  0.601262       NaN\n",
       "1  k8pGLDoxxo -0.249995 -1.838992       NaN  2.113676\n",
       "2  uMFNnt6S6z       NaN  2.109425  0.263740 -0.162893\n",
       "3  p5gAtGz2Dx  0.853479 -0.555194  1.599394  0.068909\n",
       "4  lUUfrOXV92  0.927243  0.086871  1.518794  0.790988"
      ]
     },
     "execution_count": 15,
     "metadata": {},
     "output_type": "execute_result"
    }
   ],
   "source": [
    "df = df.rename(columns={'index':'Z'})\n",
    "df.head()"
   ]
  },
  {
   "cell_type": "markdown",
   "metadata": {},
   "source": [
    "-Kita akan membuat Copy dari data frame ini dan kita simpan di df_backup\n",
    "\n",
    "-Proses pengcopyan disini deep copy dengan parameter True"
   ]
  },
  {
   "cell_type": "code",
   "execution_count": 16,
   "metadata": {},
   "outputs": [],
   "source": [
    "df_backup = df.copy(deep=True)"
   ]
  },
  {
   "cell_type": "markdown",
   "metadata": {},
   "source": [
    "Menghapus (drop) setiap kolom yang menggandung missing values\n",
    "\n",
    "-Apabila terdapat kolom yang kosong atau missing value kolom tersebut akan di hapus/kita buang\n",
    "\n",
    "-Dengan memanggil df = df.dropna dengan parameter axis='columns')"
   ]
  },
  {
   "cell_type": "code",
   "execution_count": 18,
   "metadata": {},
   "outputs": [
    {
     "data": {
      "text/html": [
       "<div>\n",
       "<style scoped>\n",
       "    .dataframe tbody tr th:only-of-type {\n",
       "        vertical-align: middle;\n",
       "    }\n",
       "\n",
       "    .dataframe tbody tr th {\n",
       "        vertical-align: top;\n",
       "    }\n",
       "\n",
       "    .dataframe thead th {\n",
       "        text-align: right;\n",
       "    }\n",
       "</style>\n",
       "<table border=\"1\" class=\"dataframe\">\n",
       "  <thead>\n",
       "    <tr style=\"text-align: right;\">\n",
       "      <th></th>\n",
       "      <th>Z</th>\n",
       "    </tr>\n",
       "  </thead>\n",
       "  <tbody>\n",
       "    <tr>\n",
       "      <th>0</th>\n",
       "      <td>QQAZickMGf</td>\n",
       "    </tr>\n",
       "    <tr>\n",
       "      <th>1</th>\n",
       "      <td>k8pGLDoxxo</td>\n",
       "    </tr>\n",
       "    <tr>\n",
       "      <th>2</th>\n",
       "      <td>uMFNnt6S6z</td>\n",
       "    </tr>\n",
       "    <tr>\n",
       "      <th>3</th>\n",
       "      <td>p5gAtGz2Dx</td>\n",
       "    </tr>\n",
       "    <tr>\n",
       "      <th>4</th>\n",
       "      <td>lUUfrOXV92</td>\n",
       "    </tr>\n",
       "  </tbody>\n",
       "</table>\n",
       "</div>"
      ],
      "text/plain": [
       "            Z\n",
       "0  QQAZickMGf\n",
       "1  k8pGLDoxxo\n",
       "2  uMFNnt6S6z\n",
       "3  p5gAtGz2Dx\n",
       "4  lUUfrOXV92"
      ]
     },
     "execution_count": 18,
     "metadata": {},
     "output_type": "execute_result"
    }
   ],
   "source": [
    "df = df.dropna(axis='columns')\n",
    "df.head()"
   ]
  },
  {
   "cell_type": "markdown",
   "metadata": {},
   "source": [
    "Menghapus (drop) setiap baris yang mengandung missing values\n",
    "\n",
    "-kita akan kembalikan semula dulu data frame nya dengan memanfaatkan data frame backup yang sudah kita buat \n",
    "\n",
    "-df = df_backup.copy(deep=True)\n",
    "df = df.dropna(axis='rows')\n",
    "df.head()\n",
    "\n",
    "-Setelah kita eksekusi scriptnya kolom pada data frame akan muncul semua dan baris yang mengandung missing value akan di hilangkan"
   ]
  },
  {
   "cell_type": "code",
   "execution_count": 19,
   "metadata": {},
   "outputs": [
    {
     "data": {
      "text/html": [
       "<div>\n",
       "<style scoped>\n",
       "    .dataframe tbody tr th:only-of-type {\n",
       "        vertical-align: middle;\n",
       "    }\n",
       "\n",
       "    .dataframe tbody tr th {\n",
       "        vertical-align: top;\n",
       "    }\n",
       "\n",
       "    .dataframe thead th {\n",
       "        text-align: right;\n",
       "    }\n",
       "</style>\n",
       "<table border=\"1\" class=\"dataframe\">\n",
       "  <thead>\n",
       "    <tr style=\"text-align: right;\">\n",
       "      <th></th>\n",
       "      <th>Z</th>\n",
       "      <th>A</th>\n",
       "      <th>B</th>\n",
       "      <th>C</th>\n",
       "      <th>D</th>\n",
       "    </tr>\n",
       "  </thead>\n",
       "  <tbody>\n",
       "    <tr>\n",
       "      <th>3</th>\n",
       "      <td>p5gAtGz2Dx</td>\n",
       "      <td>0.853479</td>\n",
       "      <td>-0.555194</td>\n",
       "      <td>1.599394</td>\n",
       "      <td>0.068909</td>\n",
       "    </tr>\n",
       "    <tr>\n",
       "      <th>4</th>\n",
       "      <td>lUUfrOXV92</td>\n",
       "      <td>0.927243</td>\n",
       "      <td>0.086871</td>\n",
       "      <td>1.518794</td>\n",
       "      <td>0.790988</td>\n",
       "    </tr>\n",
       "    <tr>\n",
       "      <th>5</th>\n",
       "      <td>HtQDjptTF2</td>\n",
       "      <td>0.128160</td>\n",
       "      <td>0.135490</td>\n",
       "      <td>-1.002427</td>\n",
       "      <td>0.212985</td>\n",
       "    </tr>\n",
       "    <tr>\n",
       "      <th>6</th>\n",
       "      <td>VCUjExngmq</td>\n",
       "      <td>-0.220250</td>\n",
       "      <td>-1.321200</td>\n",
       "      <td>0.511891</td>\n",
       "      <td>-2.878826</td>\n",
       "    </tr>\n",
       "    <tr>\n",
       "      <th>7</th>\n",
       "      <td>YxUDWbiR8f</td>\n",
       "      <td>-1.265343</td>\n",
       "      <td>0.878345</td>\n",
       "      <td>1.763047</td>\n",
       "      <td>0.736038</td>\n",
       "    </tr>\n",
       "  </tbody>\n",
       "</table>\n",
       "</div>"
      ],
      "text/plain": [
       "            Z         A         B         C         D\n",
       "3  p5gAtGz2Dx  0.853479 -0.555194  1.599394  0.068909\n",
       "4  lUUfrOXV92  0.927243  0.086871  1.518794  0.790988\n",
       "5  HtQDjptTF2  0.128160  0.135490 -1.002427  0.212985\n",
       "6  VCUjExngmq -0.220250 -1.321200  0.511891 -2.878826\n",
       "7  YxUDWbiR8f -1.265343  0.878345  1.763047  0.736038"
      ]
     },
     "execution_count": 19,
     "metadata": {},
     "output_type": "execute_result"
    }
   ],
   "source": [
    "df = df_backup.copy(deep=True)\n",
    "df = df.dropna(axis='rows')\n",
    "df.head()"
   ]
  },
  {
   "cell_type": "markdown",
   "metadata": {},
   "source": [
    "Persentase missing values untuk tiap kolom\n",
    "\n",
    "-Kita akan menampilkan seperti semula data frame yang ada dengan copy dari df_backup\n",
    "\n",
    "-df.isna berfungi untuk mengumpulkan semua missing values dari setiap kolom\n",
    "\n",
    "-.mean berfungsi untuk kalkulasi persentase dari missing value dari setiap kolom"
   ]
  },
  {
   "cell_type": "code",
   "execution_count": 20,
   "metadata": {},
   "outputs": [
    {
     "data": {
      "text/plain": [
       "Z    0.000000\n",
       "A    0.166667\n",
       "B    0.066667\n",
       "C    0.133333\n",
       "D    0.033333\n",
       "dtype: float64"
      ]
     },
     "execution_count": 20,
     "metadata": {},
     "output_type": "execute_result"
    }
   ],
   "source": [
    "df = df_backup.copy(deep=True)\n",
    "df.isna().mean()"
   ]
  },
  {
   "cell_type": "markdown",
   "metadata": {},
   "source": [
    "Menghapus (drop) setiap kolom yang mengandung missing values berdasarkan threshold\n",
    "\n",
    "-Apabila persentase missing value nya tidak terlalu tinggi kita tidak perlu membuang kolomnya begitu sebaliknya apabila sudah terlalu tinggi terpaksa kita harus menghilangkan kolomnya\n",
    "\n",
    "-treshold = len(df) * 0.9 berarti disini batas maksimal missing values nya adalah 90% dengan kata lain batas ambang batas missing values nya tidak lebih dari 90%\n",
    "\n",
    "-Untuk melakukan proses droping kita panggil saja df = df.dropna dengan parameter thresh dengan nilai treshold dan parameter axis berdasarkn kolomnya"
   ]
  },
  {
   "cell_type": "code",
   "execution_count": 21,
   "metadata": {},
   "outputs": [
    {
     "data": {
      "text/html": [
       "<div>\n",
       "<style scoped>\n",
       "    .dataframe tbody tr th:only-of-type {\n",
       "        vertical-align: middle;\n",
       "    }\n",
       "\n",
       "    .dataframe tbody tr th {\n",
       "        vertical-align: top;\n",
       "    }\n",
       "\n",
       "    .dataframe thead th {\n",
       "        text-align: right;\n",
       "    }\n",
       "</style>\n",
       "<table border=\"1\" class=\"dataframe\">\n",
       "  <thead>\n",
       "    <tr style=\"text-align: right;\">\n",
       "      <th></th>\n",
       "      <th>Z</th>\n",
       "      <th>B</th>\n",
       "      <th>D</th>\n",
       "    </tr>\n",
       "  </thead>\n",
       "  <tbody>\n",
       "    <tr>\n",
       "      <th>0</th>\n",
       "      <td>QQAZickMGf</td>\n",
       "      <td>-0.670755</td>\n",
       "      <td>NaN</td>\n",
       "    </tr>\n",
       "    <tr>\n",
       "      <th>1</th>\n",
       "      <td>k8pGLDoxxo</td>\n",
       "      <td>-1.838992</td>\n",
       "      <td>2.113676</td>\n",
       "    </tr>\n",
       "    <tr>\n",
       "      <th>2</th>\n",
       "      <td>uMFNnt6S6z</td>\n",
       "      <td>2.109425</td>\n",
       "      <td>-0.162893</td>\n",
       "    </tr>\n",
       "    <tr>\n",
       "      <th>3</th>\n",
       "      <td>p5gAtGz2Dx</td>\n",
       "      <td>-0.555194</td>\n",
       "      <td>0.068909</td>\n",
       "    </tr>\n",
       "    <tr>\n",
       "      <th>4</th>\n",
       "      <td>lUUfrOXV92</td>\n",
       "      <td>0.086871</td>\n",
       "      <td>0.790988</td>\n",
       "    </tr>\n",
       "  </tbody>\n",
       "</table>\n",
       "</div>"
      ],
      "text/plain": [
       "            Z         B         D\n",
       "0  QQAZickMGf -0.670755       NaN\n",
       "1  k8pGLDoxxo -1.838992  2.113676\n",
       "2  uMFNnt6S6z  2.109425 -0.162893\n",
       "3  p5gAtGz2Dx -0.555194  0.068909\n",
       "4  lUUfrOXV92  0.086871  0.790988"
      ]
     },
     "execution_count": 21,
     "metadata": {},
     "output_type": "execute_result"
    }
   ],
   "source": [
    "treshold = len(df) * 0.9\n",
    "df = df.dropna(thresh=treshold, axis='columns')\n",
    "df.head()"
   ]
  },
  {
   "cell_type": "code",
   "execution_count": null,
   "metadata": {},
   "outputs": [],
   "source": []
  }
 ],
 "metadata": {
  "kernelspec": {
   "display_name": "Python 3",
   "language": "python",
   "name": "python3"
  },
  "language_info": {
   "codemirror_mode": {
    "name": "ipython",
    "version": 3
   },
   "file_extension": ".py",
   "mimetype": "text/x-python",
   "name": "python",
   "nbconvert_exporter": "python",
   "pygments_lexer": "ipython3",
   "version": "3.8.5"
  }
 },
 "nbformat": 4,
 "nbformat_minor": 4
}
