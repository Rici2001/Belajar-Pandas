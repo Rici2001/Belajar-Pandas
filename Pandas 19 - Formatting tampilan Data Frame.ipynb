{
 "cells": [
  {
   "cell_type": "markdown",
   "metadata": {},
   "source": [
    "## Import Modules :\n",
    "modul yang kita import ada 2 antara lain :\n",
    "\n",
    "1. pandas\n",
    "2. numpy"
   ]
  },
  {
   "cell_type": "code",
   "execution_count": 1,
   "metadata": {},
   "outputs": [],
   "source": [
    "import pandas as pd\n",
    "import numpy as np"
   ]
  },
  {
   "cell_type": "markdown",
   "metadata": {},
   "source": [
    "-Setelah itu sebaiknya kita mengecek terlebih dahulu versi pandas dan numpy yang kita gunakan saat ini, bertujuan agar apabila terjadi perbedaan output atau tampilan itu kemungkinan besar di sebabkan oleh perbedaan versi yang di gunakan."
   ]
  },
  {
   "cell_type": "code",
   "execution_count": 2,
   "metadata": {},
   "outputs": [
    {
     "name": "stdout",
     "output_type": "stream",
     "text": [
      "1.1.3\n",
      "1.19.2\n"
     ]
    }
   ],
   "source": [
    "print(pd.__version__)\n",
    "print(np.__version__)"
   ]
  },
  {
   "cell_type": "markdown",
   "metadata": {},
   "source": [
    "## Persiapan Data Frame\n",
    "\n",
    "-n_rows di artikan sebagai jumlah baris\n",
    "\n",
    "-n_cols di artikan sebagai jumlah kolom\n",
    "\n",
    "-membentuk 2 buah kolom (omset, operasional)\n",
    "\n",
    "-np.random.randint(1, 20, size=(n_rows, n_cols)), columns=cols) artinya data frame akan diisi dengan bilangan integer dengan jangkauan 1 sampai 10 (1,2,3,4,5,6,7,8,9,...,20) yang muncul secara random. Kemudian, untuk banyak data yang ditampilkan itu ditentukan oleh n_rows dan n_cols.\n",
    "\n",
    "-dengan memanggil fungsi pd.DataFrame"
   ]
  },
  {
   "cell_type": "code",
   "execution_count": 5,
   "metadata": {},
   "outputs": [
    {
     "data": {
      "text/html": [
       "<div>\n",
       "<style scoped>\n",
       "    .dataframe tbody tr th:only-of-type {\n",
       "        vertical-align: middle;\n",
       "    }\n",
       "\n",
       "    .dataframe tbody tr th {\n",
       "        vertical-align: top;\n",
       "    }\n",
       "\n",
       "    .dataframe thead th {\n",
       "        text-align: right;\n",
       "    }\n",
       "</style>\n",
       "<table border=\"1\" class=\"dataframe\">\n",
       "  <thead>\n",
       "    <tr style=\"text-align: right;\">\n",
       "      <th></th>\n",
       "      <th>omset</th>\n",
       "      <th>operasional</th>\n",
       "    </tr>\n",
       "  </thead>\n",
       "  <tbody>\n",
       "    <tr>\n",
       "      <th>0</th>\n",
       "      <td>2</td>\n",
       "      <td>8</td>\n",
       "    </tr>\n",
       "    <tr>\n",
       "      <th>1</th>\n",
       "      <td>12</td>\n",
       "      <td>11</td>\n",
       "    </tr>\n",
       "    <tr>\n",
       "      <th>2</th>\n",
       "      <td>10</td>\n",
       "      <td>3</td>\n",
       "    </tr>\n",
       "    <tr>\n",
       "      <th>3</th>\n",
       "      <td>17</td>\n",
       "      <td>11</td>\n",
       "    </tr>\n",
       "    <tr>\n",
       "      <th>4</th>\n",
       "      <td>13</td>\n",
       "      <td>19</td>\n",
       "    </tr>\n",
       "  </tbody>\n",
       "</table>\n",
       "</div>"
      ],
      "text/plain": [
       "   omset  operasional\n",
       "0      2            8\n",
       "1     12           11\n",
       "2     10            3\n",
       "3     17           11\n",
       "4     13           19"
      ]
     },
     "execution_count": 5,
     "metadata": {},
     "output_type": "execute_result"
    }
   ],
   "source": [
    "n_rows = 5\n",
    "n_cols = 2\n",
    "cols  =['omset', 'operasional']\n",
    "\n",
    "df = pd.DataFrame(np.random.randint(1, 20, size=(n_rows, n_cols)),\n",
    "                  columns=cols)             \n",
    "df"
   ]
  },
  {
   "cell_type": "markdown",
   "metadata": {},
   "source": [
    "Mengkonversi omset dan operasional menjadi rupiah\n",
    "\n",
    "-omset -> Ratusan\n",
    "\n",
    "-operasional -> Ribuan\n",
    "\n",
    "-simbol (-) sering dikenal dengan ignore caracter di dalam python "
   ]
  },
  {
   "cell_type": "code",
   "execution_count": 8,
   "metadata": {},
   "outputs": [
    {
     "data": {
      "text/html": [
       "<div>\n",
       "<style scoped>\n",
       "    .dataframe tbody tr th:only-of-type {\n",
       "        vertical-align: middle;\n",
       "    }\n",
       "\n",
       "    .dataframe tbody tr th {\n",
       "        vertical-align: top;\n",
       "    }\n",
       "\n",
       "    .dataframe thead th {\n",
       "        text-align: right;\n",
       "    }\n",
       "</style>\n",
       "<table border=\"1\" class=\"dataframe\">\n",
       "  <thead>\n",
       "    <tr style=\"text-align: right;\">\n",
       "      <th></th>\n",
       "      <th>omset</th>\n",
       "      <th>operasional</th>\n",
       "    </tr>\n",
       "  </thead>\n",
       "  <tbody>\n",
       "    <tr>\n",
       "      <th>0</th>\n",
       "      <td>1233977344</td>\n",
       "      <td>-1524072448</td>\n",
       "    </tr>\n",
       "    <tr>\n",
       "      <th>1</th>\n",
       "      <td>-1186070528</td>\n",
       "      <td>588754944</td>\n",
       "    </tr>\n",
       "    <tr>\n",
       "      <th>2</th>\n",
       "      <td>1874919424</td>\n",
       "      <td>2112827392</td>\n",
       "    </tr>\n",
       "    <tr>\n",
       "      <th>3</th>\n",
       "      <td>-248610816</td>\n",
       "      <td>588754944</td>\n",
       "    </tr>\n",
       "    <tr>\n",
       "      <th>4</th>\n",
       "      <td>1578401792</td>\n",
       "      <td>-935317504</td>\n",
       "    </tr>\n",
       "  </tbody>\n",
       "</table>\n",
       "</div>"
      ],
      "text/plain": [
       "        omset  operasional\n",
       "0  1233977344  -1524072448\n",
       "1 -1186070528    588754944\n",
       "2  1874919424   2112827392\n",
       "3  -248610816    588754944\n",
       "4  1578401792   -935317504"
      ]
     },
     "execution_count": 8,
     "metadata": {},
     "output_type": "execute_result"
    }
   ],
   "source": [
    "df['omset'] = df['omset'] * 100_000\n",
    "df['operasional'] = df['operasional'] * 10_000\n",
    "df"
   ]
  },
  {
   "cell_type": "markdown",
   "metadata": {},
   "source": [
    "Membentuk sebuah tabel baru yang di beri nama tanggal\n",
    "\n",
    "-mengenerate index berupa Datetime \n",
    "dengan memanggil pd.testing.makeDateIndex dengan sejumlah baris yang tersedia\n",
    "\n",
    "-df.reset_index() digunakan untuk menjadikan index saat ini menjadi kolom biasa dengan nama kolom index\n",
    "\n",
    "-df.rename(columns digunakan untuk memberi nama pada tabel anda."
   ]
  },
  {
   "cell_type": "code",
   "execution_count": 9,
   "metadata": {},
   "outputs": [
    {
     "name": "stderr",
     "output_type": "stream",
     "text": [
      "C:\\Users\\Rici\\anaconda3\\lib\\site-packages\\pandas\\util\\__init__.py:12: FutureWarning: pandas.util.testing is deprecated. Use the functions in the public API at pandas.testing instead.\n",
      "  import pandas.util.testing\n"
     ]
    },
    {
     "data": {
      "text/html": [
       "<div>\n",
       "<style scoped>\n",
       "    .dataframe tbody tr th:only-of-type {\n",
       "        vertical-align: middle;\n",
       "    }\n",
       "\n",
       "    .dataframe tbody tr th {\n",
       "        vertical-align: top;\n",
       "    }\n",
       "\n",
       "    .dataframe thead th {\n",
       "        text-align: right;\n",
       "    }\n",
       "</style>\n",
       "<table border=\"1\" class=\"dataframe\">\n",
       "  <thead>\n",
       "    <tr style=\"text-align: right;\">\n",
       "      <th></th>\n",
       "      <th>tanggal</th>\n",
       "      <th>omset</th>\n",
       "      <th>operasional</th>\n",
       "    </tr>\n",
       "  </thead>\n",
       "  <tbody>\n",
       "    <tr>\n",
       "      <th>0</th>\n",
       "      <td>2000-01-01</td>\n",
       "      <td>1233977344</td>\n",
       "      <td>-1524072448</td>\n",
       "    </tr>\n",
       "    <tr>\n",
       "      <th>1</th>\n",
       "      <td>2000-01-02</td>\n",
       "      <td>-1186070528</td>\n",
       "      <td>588754944</td>\n",
       "    </tr>\n",
       "    <tr>\n",
       "      <th>2</th>\n",
       "      <td>2000-01-03</td>\n",
       "      <td>1874919424</td>\n",
       "      <td>2112827392</td>\n",
       "    </tr>\n",
       "    <tr>\n",
       "      <th>3</th>\n",
       "      <td>2000-01-04</td>\n",
       "      <td>-248610816</td>\n",
       "      <td>588754944</td>\n",
       "    </tr>\n",
       "    <tr>\n",
       "      <th>4</th>\n",
       "      <td>2000-01-05</td>\n",
       "      <td>1578401792</td>\n",
       "      <td>-935317504</td>\n",
       "    </tr>\n",
       "  </tbody>\n",
       "</table>\n",
       "</div>"
      ],
      "text/plain": [
       "     tanggal       omset  operasional\n",
       "0 2000-01-01  1233977344  -1524072448\n",
       "1 2000-01-02 -1186070528    588754944\n",
       "2 2000-01-03  1874919424   2112827392\n",
       "3 2000-01-04  -248610816    588754944\n",
       "4 2000-01-05  1578401792   -935317504"
      ]
     },
     "execution_count": 9,
     "metadata": {},
     "output_type": "execute_result"
    }
   ],
   "source": [
    "df.index = pd.util.testing.makeDateIndex(n_rows, freq='D')\n",
    "df = df.reset_index()\n",
    "df = df.rename(columns={'index':'tanggal'})\n",
    "df"
   ]
  },
  {
   "cell_type": "markdown",
   "metadata": {},
   "source": [
    "## Melakukan Formatting tampilan Data Frame\n",
    "\n",
    "-menampung sebuah distionary kedalam tabel formatku\n",
    "\n",
    "-mengubah format tanggal menjadi (hari,bulan,tahun)"
   ]
  },
  {
   "cell_type": "code",
   "execution_count": 12,
   "metadata": {},
   "outputs": [
    {
     "data": {
      "text/html": [
       "<style  type=\"text/css\" >\n",
       "</style><table id=\"T_e675cd22_2d5d_11ec_8fed_c1cf5cf0e617\" ><thead>    <tr>        <th class=\"blank level0\" ></th>        <th class=\"col_heading level0 col0\" >tanggal</th>        <th class=\"col_heading level0 col1\" >omset</th>        <th class=\"col_heading level0 col2\" >operasional</th>    </tr></thead><tbody>\n",
       "                <tr>\n",
       "                        <th id=\"T_e675cd22_2d5d_11ec_8fed_c1cf5cf0e617level0_row0\" class=\"row_heading level0 row0\" >0</th>\n",
       "                        <td id=\"T_e675cd22_2d5d_11ec_8fed_c1cf5cf0e617row0_col0\" class=\"data row0 col0\" >01/01/00</td>\n",
       "                        <td id=\"T_e675cd22_2d5d_11ec_8fed_c1cf5cf0e617row0_col1\" class=\"data row0 col1\" >Rp 1233977344.00</td>\n",
       "                        <td id=\"T_e675cd22_2d5d_11ec_8fed_c1cf5cf0e617row0_col2\" class=\"data row0 col2\" >Rp -1524072448.00</td>\n",
       "            </tr>\n",
       "            <tr>\n",
       "                        <th id=\"T_e675cd22_2d5d_11ec_8fed_c1cf5cf0e617level0_row1\" class=\"row_heading level0 row1\" >1</th>\n",
       "                        <td id=\"T_e675cd22_2d5d_11ec_8fed_c1cf5cf0e617row1_col0\" class=\"data row1 col0\" >02/01/00</td>\n",
       "                        <td id=\"T_e675cd22_2d5d_11ec_8fed_c1cf5cf0e617row1_col1\" class=\"data row1 col1\" >Rp -1186070528.00</td>\n",
       "                        <td id=\"T_e675cd22_2d5d_11ec_8fed_c1cf5cf0e617row1_col2\" class=\"data row1 col2\" >Rp 588754944.00</td>\n",
       "            </tr>\n",
       "            <tr>\n",
       "                        <th id=\"T_e675cd22_2d5d_11ec_8fed_c1cf5cf0e617level0_row2\" class=\"row_heading level0 row2\" >2</th>\n",
       "                        <td id=\"T_e675cd22_2d5d_11ec_8fed_c1cf5cf0e617row2_col0\" class=\"data row2 col0\" >03/01/00</td>\n",
       "                        <td id=\"T_e675cd22_2d5d_11ec_8fed_c1cf5cf0e617row2_col1\" class=\"data row2 col1\" >Rp 1874919424.00</td>\n",
       "                        <td id=\"T_e675cd22_2d5d_11ec_8fed_c1cf5cf0e617row2_col2\" class=\"data row2 col2\" >Rp 2112827392.00</td>\n",
       "            </tr>\n",
       "            <tr>\n",
       "                        <th id=\"T_e675cd22_2d5d_11ec_8fed_c1cf5cf0e617level0_row3\" class=\"row_heading level0 row3\" >3</th>\n",
       "                        <td id=\"T_e675cd22_2d5d_11ec_8fed_c1cf5cf0e617row3_col0\" class=\"data row3 col0\" >04/01/00</td>\n",
       "                        <td id=\"T_e675cd22_2d5d_11ec_8fed_c1cf5cf0e617row3_col1\" class=\"data row3 col1\" >Rp -248610816.00</td>\n",
       "                        <td id=\"T_e675cd22_2d5d_11ec_8fed_c1cf5cf0e617row3_col2\" class=\"data row3 col2\" >Rp 588754944.00</td>\n",
       "            </tr>\n",
       "            <tr>\n",
       "                        <th id=\"T_e675cd22_2d5d_11ec_8fed_c1cf5cf0e617level0_row4\" class=\"row_heading level0 row4\" >4</th>\n",
       "                        <td id=\"T_e675cd22_2d5d_11ec_8fed_c1cf5cf0e617row4_col0\" class=\"data row4 col0\" >05/01/00</td>\n",
       "                        <td id=\"T_e675cd22_2d5d_11ec_8fed_c1cf5cf0e617row4_col1\" class=\"data row4 col1\" >Rp 1578401792.00</td>\n",
       "                        <td id=\"T_e675cd22_2d5d_11ec_8fed_c1cf5cf0e617row4_col2\" class=\"data row4 col2\" >Rp -935317504.00</td>\n",
       "            </tr>\n",
       "    </tbody></table>"
      ],
      "text/plain": [
       "<pandas.io.formats.style.Styler at 0x194edcc67f0>"
      ]
     },
     "execution_count": 12,
     "metadata": {},
     "output_type": "execute_result"
    }
   ],
   "source": [
    "formatku = {'tanggal':'{:%d/%m/%y}',\n",
    "            'operasional':'Rp {:.2f}',\n",
    "            'omset':'Rp {:.2f}'}\n",
    "\n",
    "laporan = df.style.format (formatku)\n",
    "laporan"
   ]
  },
  {
   "cell_type": "markdown",
   "metadata": {},
   "source": [
    "fungsi type(laporan) untuk mengecek tipe datanya"
   ]
  },
  {
   "cell_type": "code",
   "execution_count": 13,
   "metadata": {},
   "outputs": [
    {
     "data": {
      "text/plain": [
       "pandas.io.formats.style.Styler"
      ]
     },
     "execution_count": 13,
     "metadata": {},
     "output_type": "execute_result"
    }
   ],
   "source": [
    "type(laporan)"
   ]
  },
  {
   "cell_type": "markdown",
   "metadata": {},
   "source": [
    "fungsi hide_index pada DataFrame di gunakan untuk menyembunyikan index yang terdapat di sebuah Data Frame"
   ]
  },
  {
   "cell_type": "code",
   "execution_count": 14,
   "metadata": {},
   "outputs": [
    {
     "data": {
      "text/html": [
       "<style  type=\"text/css\" >\n",
       "</style><table id=\"T_69f46b2e_2d5e_11ec_88b7_c1cf5cf0e617\" ><thead>    <tr>        <th class=\"col_heading level0 col0\" >tanggal</th>        <th class=\"col_heading level0 col1\" >omset</th>        <th class=\"col_heading level0 col2\" >operasional</th>    </tr></thead><tbody>\n",
       "                <tr>\n",
       "                                <td id=\"T_69f46b2e_2d5e_11ec_88b7_c1cf5cf0e617row0_col0\" class=\"data row0 col0\" >01/01/00</td>\n",
       "                        <td id=\"T_69f46b2e_2d5e_11ec_88b7_c1cf5cf0e617row0_col1\" class=\"data row0 col1\" >Rp 1233977344.00</td>\n",
       "                        <td id=\"T_69f46b2e_2d5e_11ec_88b7_c1cf5cf0e617row0_col2\" class=\"data row0 col2\" >Rp -1524072448.00</td>\n",
       "            </tr>\n",
       "            <tr>\n",
       "                                <td id=\"T_69f46b2e_2d5e_11ec_88b7_c1cf5cf0e617row1_col0\" class=\"data row1 col0\" >02/01/00</td>\n",
       "                        <td id=\"T_69f46b2e_2d5e_11ec_88b7_c1cf5cf0e617row1_col1\" class=\"data row1 col1\" >Rp -1186070528.00</td>\n",
       "                        <td id=\"T_69f46b2e_2d5e_11ec_88b7_c1cf5cf0e617row1_col2\" class=\"data row1 col2\" >Rp 588754944.00</td>\n",
       "            </tr>\n",
       "            <tr>\n",
       "                                <td id=\"T_69f46b2e_2d5e_11ec_88b7_c1cf5cf0e617row2_col0\" class=\"data row2 col0\" >03/01/00</td>\n",
       "                        <td id=\"T_69f46b2e_2d5e_11ec_88b7_c1cf5cf0e617row2_col1\" class=\"data row2 col1\" >Rp 1874919424.00</td>\n",
       "                        <td id=\"T_69f46b2e_2d5e_11ec_88b7_c1cf5cf0e617row2_col2\" class=\"data row2 col2\" >Rp 2112827392.00</td>\n",
       "            </tr>\n",
       "            <tr>\n",
       "                                <td id=\"T_69f46b2e_2d5e_11ec_88b7_c1cf5cf0e617row3_col0\" class=\"data row3 col0\" >04/01/00</td>\n",
       "                        <td id=\"T_69f46b2e_2d5e_11ec_88b7_c1cf5cf0e617row3_col1\" class=\"data row3 col1\" >Rp -248610816.00</td>\n",
       "                        <td id=\"T_69f46b2e_2d5e_11ec_88b7_c1cf5cf0e617row3_col2\" class=\"data row3 col2\" >Rp 588754944.00</td>\n",
       "            </tr>\n",
       "            <tr>\n",
       "                                <td id=\"T_69f46b2e_2d5e_11ec_88b7_c1cf5cf0e617row4_col0\" class=\"data row4 col0\" >05/01/00</td>\n",
       "                        <td id=\"T_69f46b2e_2d5e_11ec_88b7_c1cf5cf0e617row4_col1\" class=\"data row4 col1\" >Rp 1578401792.00</td>\n",
       "                        <td id=\"T_69f46b2e_2d5e_11ec_88b7_c1cf5cf0e617row4_col2\" class=\"data row4 col2\" >Rp -935317504.00</td>\n",
       "            </tr>\n",
       "    </tbody></table>"
      ],
      "text/plain": [
       "<pandas.io.formats.style.Styler at 0x194edcc67f0>"
      ]
     },
     "execution_count": 14,
     "metadata": {},
     "output_type": "execute_result"
    }
   ],
   "source": [
    "laporan.hide_index()"
   ]
  },
  {
   "cell_type": "markdown",
   "metadata": {},
   "source": [
    "fungsi set_caption digunakan untuk membuat sebuah judul pada data frame kita"
   ]
  },
  {
   "cell_type": "code",
   "execution_count": 15,
   "metadata": {},
   "outputs": [
    {
     "data": {
      "text/html": [
       "<style  type=\"text/css\" >\n",
       "</style><table id=\"T_a1609273_2d5e_11ec_8891_c1cf5cf0e617\" ><caption>Data Omset dan Operasional</caption><thead>    <tr>        <th class=\"col_heading level0 col0\" >tanggal</th>        <th class=\"col_heading level0 col1\" >omset</th>        <th class=\"col_heading level0 col2\" >operasional</th>    </tr></thead><tbody>\n",
       "                <tr>\n",
       "                                <td id=\"T_a1609273_2d5e_11ec_8891_c1cf5cf0e617row0_col0\" class=\"data row0 col0\" >01/01/00</td>\n",
       "                        <td id=\"T_a1609273_2d5e_11ec_8891_c1cf5cf0e617row0_col1\" class=\"data row0 col1\" >Rp 1233977344.00</td>\n",
       "                        <td id=\"T_a1609273_2d5e_11ec_8891_c1cf5cf0e617row0_col2\" class=\"data row0 col2\" >Rp -1524072448.00</td>\n",
       "            </tr>\n",
       "            <tr>\n",
       "                                <td id=\"T_a1609273_2d5e_11ec_8891_c1cf5cf0e617row1_col0\" class=\"data row1 col0\" >02/01/00</td>\n",
       "                        <td id=\"T_a1609273_2d5e_11ec_8891_c1cf5cf0e617row1_col1\" class=\"data row1 col1\" >Rp -1186070528.00</td>\n",
       "                        <td id=\"T_a1609273_2d5e_11ec_8891_c1cf5cf0e617row1_col2\" class=\"data row1 col2\" >Rp 588754944.00</td>\n",
       "            </tr>\n",
       "            <tr>\n",
       "                                <td id=\"T_a1609273_2d5e_11ec_8891_c1cf5cf0e617row2_col0\" class=\"data row2 col0\" >03/01/00</td>\n",
       "                        <td id=\"T_a1609273_2d5e_11ec_8891_c1cf5cf0e617row2_col1\" class=\"data row2 col1\" >Rp 1874919424.00</td>\n",
       "                        <td id=\"T_a1609273_2d5e_11ec_8891_c1cf5cf0e617row2_col2\" class=\"data row2 col2\" >Rp 2112827392.00</td>\n",
       "            </tr>\n",
       "            <tr>\n",
       "                                <td id=\"T_a1609273_2d5e_11ec_8891_c1cf5cf0e617row3_col0\" class=\"data row3 col0\" >04/01/00</td>\n",
       "                        <td id=\"T_a1609273_2d5e_11ec_8891_c1cf5cf0e617row3_col1\" class=\"data row3 col1\" >Rp -248610816.00</td>\n",
       "                        <td id=\"T_a1609273_2d5e_11ec_8891_c1cf5cf0e617row3_col2\" class=\"data row3 col2\" >Rp 588754944.00</td>\n",
       "            </tr>\n",
       "            <tr>\n",
       "                                <td id=\"T_a1609273_2d5e_11ec_8891_c1cf5cf0e617row4_col0\" class=\"data row4 col0\" >05/01/00</td>\n",
       "                        <td id=\"T_a1609273_2d5e_11ec_8891_c1cf5cf0e617row4_col1\" class=\"data row4 col1\" >Rp 1578401792.00</td>\n",
       "                        <td id=\"T_a1609273_2d5e_11ec_8891_c1cf5cf0e617row4_col2\" class=\"data row4 col2\" >Rp -935317504.00</td>\n",
       "            </tr>\n",
       "    </tbody></table>"
      ],
      "text/plain": [
       "<pandas.io.formats.style.Styler at 0x194edcc67f0>"
      ]
     },
     "execution_count": 15,
     "metadata": {},
     "output_type": "execute_result"
    }
   ],
   "source": [
    "laporan.set_caption('Data Omset dan Operasional')"
   ]
  },
  {
   "cell_type": "markdown",
   "metadata": {},
   "source": [
    "Memberi highlight nilai min dan nilai Max berserta memberi warna "
   ]
  },
  {
   "cell_type": "code",
   "execution_count": 16,
   "metadata": {},
   "outputs": [
    {
     "data": {
      "text/html": [
       "<style  type=\"text/css\" >\n",
       "#T_825fb704_2d5f_11ec_b2fa_c1cf5cf0e617row0_col2{\n",
       "            background-color:  lightblue;\n",
       "        }#T_825fb704_2d5f_11ec_b2fa_c1cf5cf0e617row1_col1{\n",
       "            background-color:  pink;\n",
       "        }#T_825fb704_2d5f_11ec_b2fa_c1cf5cf0e617row2_col1{\n",
       "            background-color:  lightgreen;\n",
       "        }#T_825fb704_2d5f_11ec_b2fa_c1cf5cf0e617row2_col2{\n",
       "            background-color:  grey;\n",
       "        }</style><table id=\"T_825fb704_2d5f_11ec_b2fa_c1cf5cf0e617\" ><caption>Data Omset dan Operasional</caption><thead>    <tr>        <th class=\"col_heading level0 col0\" >tanggal</th>        <th class=\"col_heading level0 col1\" >omset</th>        <th class=\"col_heading level0 col2\" >operasional</th>    </tr></thead><tbody>\n",
       "                <tr>\n",
       "                                <td id=\"T_825fb704_2d5f_11ec_b2fa_c1cf5cf0e617row0_col0\" class=\"data row0 col0\" >01/01/00</td>\n",
       "                        <td id=\"T_825fb704_2d5f_11ec_b2fa_c1cf5cf0e617row0_col1\" class=\"data row0 col1\" >Rp 1233977344.00</td>\n",
       "                        <td id=\"T_825fb704_2d5f_11ec_b2fa_c1cf5cf0e617row0_col2\" class=\"data row0 col2\" >Rp -1524072448.00</td>\n",
       "            </tr>\n",
       "            <tr>\n",
       "                                <td id=\"T_825fb704_2d5f_11ec_b2fa_c1cf5cf0e617row1_col0\" class=\"data row1 col0\" >02/01/00</td>\n",
       "                        <td id=\"T_825fb704_2d5f_11ec_b2fa_c1cf5cf0e617row1_col1\" class=\"data row1 col1\" >Rp -1186070528.00</td>\n",
       "                        <td id=\"T_825fb704_2d5f_11ec_b2fa_c1cf5cf0e617row1_col2\" class=\"data row1 col2\" >Rp 588754944.00</td>\n",
       "            </tr>\n",
       "            <tr>\n",
       "                                <td id=\"T_825fb704_2d5f_11ec_b2fa_c1cf5cf0e617row2_col0\" class=\"data row2 col0\" >03/01/00</td>\n",
       "                        <td id=\"T_825fb704_2d5f_11ec_b2fa_c1cf5cf0e617row2_col1\" class=\"data row2 col1\" >Rp 1874919424.00</td>\n",
       "                        <td id=\"T_825fb704_2d5f_11ec_b2fa_c1cf5cf0e617row2_col2\" class=\"data row2 col2\" >Rp 2112827392.00</td>\n",
       "            </tr>\n",
       "            <tr>\n",
       "                                <td id=\"T_825fb704_2d5f_11ec_b2fa_c1cf5cf0e617row3_col0\" class=\"data row3 col0\" >04/01/00</td>\n",
       "                        <td id=\"T_825fb704_2d5f_11ec_b2fa_c1cf5cf0e617row3_col1\" class=\"data row3 col1\" >Rp -248610816.00</td>\n",
       "                        <td id=\"T_825fb704_2d5f_11ec_b2fa_c1cf5cf0e617row3_col2\" class=\"data row3 col2\" >Rp 588754944.00</td>\n",
       "            </tr>\n",
       "            <tr>\n",
       "                                <td id=\"T_825fb704_2d5f_11ec_b2fa_c1cf5cf0e617row4_col0\" class=\"data row4 col0\" >05/01/00</td>\n",
       "                        <td id=\"T_825fb704_2d5f_11ec_b2fa_c1cf5cf0e617row4_col1\" class=\"data row4 col1\" >Rp 1578401792.00</td>\n",
       "                        <td id=\"T_825fb704_2d5f_11ec_b2fa_c1cf5cf0e617row4_col2\" class=\"data row4 col2\" >Rp -935317504.00</td>\n",
       "            </tr>\n",
       "    </tbody></table>"
      ],
      "text/plain": [
       "<pandas.io.formats.style.Styler at 0x194edcc67f0>"
      ]
     },
     "execution_count": 16,
     "metadata": {},
     "output_type": "execute_result"
    }
   ],
   "source": [
    "laporan.highlight_min('omset', color='pink')\n",
    "laporan.highlight_max('omset', color='lightgreen')\n",
    "\n",
    "laporan.highlight_min('operasional', color='lightblue')\n",
    "laporan.highlight_max('operasional', color='grey')"
   ]
  },
  {
   "cell_type": "code",
   "execution_count": null,
   "metadata": {},
   "outputs": [],
   "source": []
  }
 ],
 "metadata": {
  "kernelspec": {
   "display_name": "Python 3",
   "language": "python",
   "name": "python3"
  },
  "language_info": {
   "codemirror_mode": {
    "name": "ipython",
    "version": 3
   },
   "file_extension": ".py",
   "mimetype": "text/x-python",
   "name": "python",
   "nbconvert_exporter": "python",
   "pygments_lexer": "ipython3",
   "version": "3.8.5"
  }
 },
 "nbformat": 4,
 "nbformat_minor": 4
}
